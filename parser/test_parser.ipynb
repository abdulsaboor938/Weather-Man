{
 "cells": [
  {
   "cell_type": "code",
   "execution_count": 1,
   "metadata": {},
   "outputs": [],
   "source": [
    "# This file is used to test all 3 file types in this module with dummy data"
   ]
  },
  {
   "cell_type": "code",
   "execution_count": 2,
   "metadata": {},
   "outputs": [
    {
     "data": {
      "text/plain": [
       "{'PKT': ['2016-3-1',\n",
       "  '2016-3-2',\n",
       "  '2016-3-3',\n",
       "  '2016-3-4',\n",
       "  '2016-3-5',\n",
       "  '2016-3-6',\n",
       "  '2016-3-7',\n",
       "  '2016-3-8',\n",
       "  '2016-3-9',\n",
       "  '2016-3-10',\n",
       "  '2016-3-11',\n",
       "  '2016-3-12',\n",
       "  '2016-3-13',\n",
       "  '2016-3-14',\n",
       "  '2016-3-15',\n",
       "  '2016-3-16',\n",
       "  '2016-3-17',\n",
       "  '2016-3-18',\n",
       "  '2016-3-19',\n",
       "  '2016-3-20',\n",
       "  '2016-3-21',\n",
       "  '2016-3-22',\n",
       "  '2016-3-23',\n",
       "  '2016-3-24',\n",
       "  '2016-3-25',\n",
       "  '2016-3-26',\n",
       "  '2016-3-27',\n",
       "  '2016-3-28',\n",
       "  '2016-3-29',\n",
       "  '2016-3-30',\n",
       "  '2016-3-31']}"
      ]
     },
     "execution_count": 2,
     "metadata": {},
     "output_type": "execute_result"
    }
   ],
   "source": [
    "# testing text file\n",
    "\n",
    "from parse_txt import parse_txt_file\n",
    "\n",
    "parse_txt_file('/Users/carbon/Desktop/Weather Man/parser/Murree_weather_2016_Mar.txt', ['PKT', 'Max TemperatureC', 'Mean TemperatureC', 'Min TemperatureC', 'Dew PointC', 'MeanDew PointC', 'Min DewpointC', 'Max Humidity', 'Mean Humidity', 'Min Humidity', 'Max Sea Level PressurehPa', 'Mean Sea Level PressurehPa', 'Min Sea Level PressurehPa', 'Max VisibilityKm', 'Mean VisibilityKm', 'Min VisibilitykM', 'Max Wind SpeedKm/h', 'Mean Wind SpeedKm/h', 'Max Gust SpeedKm/h', 'Precipitationmm', 'CloudCover', 'Events', 'WindDirDegrees'])"
   ]
  },
  {
   "cell_type": "code",
   "execution_count": 3,
   "metadata": {},
   "outputs": [
    {
     "data": {
      "text/plain": [
       "{'PKT': ['2016-9-1',\n",
       "  '2016-9-2',\n",
       "  '2016-9-3',\n",
       "  '2016-9-4',\n",
       "  '2016-9-5',\n",
       "  '2016-9-6',\n",
       "  '2016-9-7',\n",
       "  '2016-9-8',\n",
       "  '2016-9-9',\n",
       "  '2016-9-10',\n",
       "  '2016-9-11',\n",
       "  '2016-9-12',\n",
       "  '2016-9-13',\n",
       "  '2016-9-14',\n",
       "  '2016-9-15',\n",
       "  '2016-9-16',\n",
       "  '2016-9-17',\n",
       "  '2016-9-18',\n",
       "  '2016-9-19',\n",
       "  '2016-9-20',\n",
       "  '2016-9-21',\n",
       "  '2016-9-22',\n",
       "  '2016-9-23',\n",
       "  '2016-9-24',\n",
       "  '2016-9-25',\n",
       "  '2016-9-26',\n",
       "  '2016-9-27',\n",
       "  '2016-9-28',\n",
       "  '2016-9-29']}"
      ]
     },
     "execution_count": 3,
     "metadata": {},
     "output_type": "execute_result"
    }
   ],
   "source": [
    "# testing tsv file\n",
    "\n",
    "from parse_tsv import parse_tsv_file\n",
    "\n",
    "parse_tsv_file('/Users/carbon/Desktop/Weather Man/parser/Murree_weather_2016_Sep.tsv', ['PKT', 'Max TemperatureC', 'Mean TemperatureC', 'Min TemperatureC', 'Dew PointC', 'MeanDew PointC', 'Min DewpointC', 'Max Humidity', 'Mean Humidity', 'Min Humidity', 'Max Sea Level PressurehPa', 'Mean Sea Level PressurehPa', 'Min Sea Level PressurehPa', 'Max VisibilityKm', 'Mean VisibilityKm', 'Min VisibilitykM', 'Max Wind SpeedKm/h', 'Mean Wind SpeedKm/h', 'Max Gust SpeedKm/h', 'Precipitationmm', 'CloudCover', 'Events', 'WindDirDegrees'])"
   ]
  },
  {
   "cell_type": "code",
   "execution_count": 3,
   "metadata": {},
   "outputs": [
    {
     "data": {
      "text/plain": [
       "{'PKT': ['2016-5-1',\n",
       "  '2016-5-2',\n",
       "  '2016-5-3',\n",
       "  '2016-5-4',\n",
       "  '2016-5-5',\n",
       "  '2016-5-6',\n",
       "  '2016-5-7',\n",
       "  '2016-5-8',\n",
       "  '2016-5-9',\n",
       "  '2016-5-10',\n",
       "  '2016-5-11',\n",
       "  '2016-5-12',\n",
       "  '2016-5-13',\n",
       "  '2016-5-14',\n",
       "  '2016-5-15',\n",
       "  '2016-5-16',\n",
       "  '2016-5-17',\n",
       "  '2016-5-18',\n",
       "  '2016-5-19',\n",
       "  '2016-5-20',\n",
       "  '2016-5-21',\n",
       "  '2016-5-22',\n",
       "  '2016-5-23',\n",
       "  '2016-5-24',\n",
       "  '2016-5-25',\n",
       "  '2016-5-26',\n",
       "  '2016-5-27',\n",
       "  '2016-5-28',\n",
       "  '2016-5-29',\n",
       "  '2016-5-30',\n",
       "  '2016-5-31']}"
      ]
     },
     "execution_count": 3,
     "metadata": {},
     "output_type": "execute_result"
    }
   ],
   "source": [
    "# testing xlsx file\n",
    "\n",
    "from parse_xlsx import parse_xlsx_file\n",
    "\n",
    "parse_xlsx_file('/Users/carbon/Desktop/Weather Man/parser/Murree_weather_2016_May.xlsx', ['PKT', 'Max TemperatureC', 'Mean TemperatureC', 'Min TemperatureC', 'Dew PointC', 'MeanDew PointC', 'Min DewpointC', 'Max Humidity', 'Mean Humidity', 'Min Humidity', 'Max Sea Level PressurehPa', 'Mean Sea Level PressurehPa', 'Min Sea Level PressurehPa', 'Max VisibilityKm', 'Mean VisibilityKm', 'Min VisibilitykM', 'Max Wind SpeedKm/h', 'Mean Wind SpeedKm/h', 'Max Gust SpeedKm/h', 'Precipitationmm', 'CloudCover', 'Events', 'WindDirDegrees'])"
   ]
  },
  {
   "cell_type": "code",
   "execution_count": 2,
   "metadata": {},
   "outputs": [
    {
     "data": {
      "text/plain": [
       "{'PKT': ['2016-5-1',\n",
       "  '2016-5-2',\n",
       "  '2016-5-3',\n",
       "  '2016-5-4',\n",
       "  '2016-5-5',\n",
       "  '2016-5-6',\n",
       "  '2016-5-7',\n",
       "  '2016-5-8',\n",
       "  '2016-5-9',\n",
       "  '2016-5-10',\n",
       "  '2016-5-11',\n",
       "  '2016-5-12',\n",
       "  '2016-5-13',\n",
       "  '2016-5-14',\n",
       "  '2016-5-15',\n",
       "  '2016-5-16',\n",
       "  '2016-5-17',\n",
       "  '2016-5-18',\n",
       "  '2016-5-19',\n",
       "  '2016-5-20',\n",
       "  '2016-5-21',\n",
       "  '2016-5-22',\n",
       "  '2016-5-23',\n",
       "  '2016-5-24',\n",
       "  '2016-5-25',\n",
       "  '2016-5-26',\n",
       "  '2016-5-27',\n",
       "  '2016-5-28',\n",
       "  '2016-5-29',\n",
       "  '2016-5-30',\n",
       "  '2016-5-31']}"
      ]
     },
     "execution_count": 2,
     "metadata": {},
     "output_type": "execute_result"
    }
   ],
   "source": [
    "import pandas as pd\n",
    "\n",
    "params=['PKT']\n",
    "file_path = '/Users/carbon/Desktop/Weather Man/parser/Murree_weather_2016_May.xlsx'\n",
    "\n",
    "retrieved_data = {\n",
    "    param: [] for param in params\n",
    "}  # Create a dictionary with keys as the parameters and empty arrays to store the data\n",
    "\n",
    "# Load the Excel file into a pandas DataFrame\n",
    "df = pd.read_excel(file_path)\n",
    "\n",
    "# Check if all requested params exist in the DataFrame columns\n",
    "for param in params:\n",
    "    if param not in df.columns:\n",
    "        raise ValueError(f\"Parameter '{param}' not found in the Excel file columns\")\n",
    "\n",
    "# Extract the data for each parameter and store in the respective arrays\n",
    "for param in params:\n",
    "    retrieved_data[param] = df[param].tolist()\n",
    "\n",
    "retrieved_data"
   ]
  }
 ],
 "metadata": {
  "kernelspec": {
   "display_name": "base",
   "language": "python",
   "name": "python3"
  },
  "language_info": {
   "codemirror_mode": {
    "name": "ipython",
    "version": 3
   },
   "file_extension": ".py",
   "mimetype": "text/x-python",
   "name": "python",
   "nbconvert_exporter": "python",
   "pygments_lexer": "ipython3",
   "version": "3.12.2"
  }
 },
 "nbformat": 4,
 "nbformat_minor": 2
}
