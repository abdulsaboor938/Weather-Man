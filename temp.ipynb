{
 "cells": [
  {
   "cell_type": "code",
   "execution_count": 25,
   "metadata": {},
   "outputs": [
    {
     "name": "stdout",
     "output_type": "stream",
     "text": [
      "['PKT', 'Max TemperatureC', 'Mean TemperatureC', 'Min TemperatureC', 'Dew PointC', 'MeanDew PointC', 'Min DewpointC', 'Max Humidity', ' Mean Humidity', ' Min Humidity', ' Max Sea Level PressurehPa', ' Mean Sea Level PressurehPa', ' Min Sea Level PressurehPa', ' Max VisibilityKm', ' Mean VisibilityKm', ' Min VisibilitykM', ' Max Wind SpeedKm/h', ' Mean Wind SpeedKm/h', ' Max Gust SpeedKm/h', 'Precipitationmm', ' CloudCover', ' Events', 'WindDirDegrees\\n']\n"
     ]
    },
    {
     "data": {
      "text/plain": [
       "{}"
      ]
     },
     "execution_count": 25,
     "metadata": {},
     "output_type": "execute_result"
    }
   ],
   "source": [
    "# parse a txt file and accept multiple arguments in array form\n",
    "def parse_txt_file(file_path, params):\n",
    "    retrieved_data = {i : [] for i in params}  # create a dictionary with keys as the parameters and empty arrays to store the data\n",
    "\n",
    "    with open(file_path, 'r') as file:\n",
    "        header = [ i for i in file.readline().split(',')]\n",
    "        print(header)\n",
    "\n",
    "        data = file.readlines()\n",
    "\n",
    "    # processing the data and creating disitnct arrays for each parameter\n",
    "    ref_hash = [header.index(i) for i in params]  # reference hash to store the parameters for extracting from line\n",
    "    \n",
    "    # iterate through the data and extract the parameters, storing in the respective arrays\n",
    "    for line in data:\n",
    "        line = line.split(',')\n",
    "        for i in range(len(ref_hash)):\n",
    "            retrieved_data[params[i]].append(line[ref_hash[i]])\n",
    "\n",
    "    return(retrieved_data)\n",
    "\n",
    "parse_txt_file('temp.txt', [])  # call the function with the file path and the parameters"
   ]
  },
  {
   "cell_type": "code",
   "execution_count": null,
   "metadata": {},
   "outputs": [],
   "source": [
    "parse_txt_file()"
   ]
  },
  {
   "cell_type": "code",
   "execution_count": 1,
   "metadata": {},
   "outputs": [
    {
     "name": "stdout",
     "output_type": "stream",
     "text": [
      "2\n"
     ]
    }
   ],
   "source": [
    "# get position of an element in array\n",
    "temp = ['a', 'b', 'c', 'd']\n",
    "print(temp.index('c'))"
   ]
  }
 ],
 "metadata": {
  "kernelspec": {
   "display_name": "base",
   "language": "python",
   "name": "python3"
  },
  "language_info": {
   "codemirror_mode": {
    "name": "ipython",
    "version": 3
   },
   "file_extension": ".py",
   "mimetype": "text/x-python",
   "name": "python",
   "nbconvert_exporter": "python",
   "pygments_lexer": "ipython3",
   "version": "3.12.2"
  }
 },
 "nbformat": 4,
 "nbformat_minor": 2
}
